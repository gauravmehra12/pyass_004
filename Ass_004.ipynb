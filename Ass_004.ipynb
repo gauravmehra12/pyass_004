{
 "cells": [
  {
   "cell_type": "markdown",
   "id": "738f733e",
   "metadata": {},
   "source": [
    "Q1. What exactly is []?"
   ]
  },
  {
   "cell_type": "code",
   "execution_count": null,
   "id": "9e63c009",
   "metadata": {},
   "outputs": [],
   "source": [
    "#ans1.\n",
    "# It is an empty list and will return the data type as list."
   ]
  },
  {
   "cell_type": "markdown",
   "id": "b38b20bb",
   "metadata": {},
   "source": [
    "Q2. In a list of values stored in a variable called spam, how would you assign the value 'hello' as the third value? (Assume [2, 4, 6, 8, 10] are in spam.)"
   ]
  },
  {
   "cell_type": "code",
   "execution_count": 1,
   "id": "3b4b41ec",
   "metadata": {},
   "outputs": [
    {
     "data": {
      "text/plain": [
       "[2, 4, 'hello', 8, 10]"
      ]
     },
     "execution_count": 1,
     "metadata": {},
     "output_type": "execute_result"
    }
   ],
   "source": [
    "#ans2.\n",
    "spam = [2,4,6,8,10]\n",
    "spam[2] = 'hello'\n",
    "spam"
   ]
  },
  {
   "cell_type": "markdown",
   "id": "2216dc8c",
   "metadata": {},
   "source": [
    "Let's pretend the spam includes the list ['a', 'b', 'c', 'd'] for the next three queries."
   ]
  },
  {
   "cell_type": "markdown",
   "id": "5d9ab68a",
   "metadata": {},
   "source": [
    "Q3. What is the value of spam[int(int('3' * 2) / 11)]?"
   ]
  },
  {
   "cell_type": "code",
   "execution_count": null,
   "id": "2bf922e9",
   "metadata": {},
   "outputs": [],
   "source": [
    "#ans3.\n",
    "# 'd'"
   ]
  },
  {
   "cell_type": "markdown",
   "id": "4f63920e",
   "metadata": {},
   "source": [
    "Q4. What is the value of spam[-1]?"
   ]
  },
  {
   "cell_type": "code",
   "execution_count": null,
   "id": "2517bd0a",
   "metadata": {},
   "outputs": [],
   "source": [
    "#ans4.\n",
    "# 'd'"
   ]
  },
  {
   "cell_type": "markdown",
   "id": "bac3c08d",
   "metadata": {},
   "source": [
    "Q5. What is the value of spam[:2]?"
   ]
  },
  {
   "cell_type": "code",
   "execution_count": null,
   "id": "d902ff8c",
   "metadata": {},
   "outputs": [],
   "source": [
    "#ans5.\n",
    "# ['a','b']"
   ]
  },
  {
   "cell_type": "markdown",
   "id": "8cf36eb1",
   "metadata": {},
   "source": [
    "Let's pretend bacon has the list [3.14, 'cat,' 11, 'cat,' True] for the next three questions."
   ]
  },
  {
   "cell_type": "markdown",
   "id": "5daf2e55",
   "metadata": {},
   "source": [
    "Q6. What is the value of bacon.index('cat')?"
   ]
  },
  {
   "cell_type": "code",
   "execution_count": null,
   "id": "d685aaba",
   "metadata": {},
   "outputs": [],
   "source": [
    "#ans6.\n",
    "# it will return the index of cat (first occurence if element repeated)\n",
    "# 1"
   ]
  },
  {
   "cell_type": "markdown",
   "id": "8607d00e",
   "metadata": {},
   "source": [
    "Q7. How does bacon.append(99) change the look of the list value in bacon?"
   ]
  },
  {
   "cell_type": "code",
   "execution_count": null,
   "id": "8b190d75",
   "metadata": {},
   "outputs": [],
   "source": [
    "#ans7.\n",
    "# it will add 99 at the last index of the list\n",
    "[3.14, 'cat', 11, 'cat', True, 99]\n",
    "#though syntax was not correct for list in the question"
   ]
  },
  {
   "cell_type": "markdown",
   "id": "09acc466",
   "metadata": {},
   "source": [
    "Q8. How does bacon.remove('cat') change the look of the list in bacon?"
   ]
  },
  {
   "cell_type": "code",
   "execution_count": null,
   "id": "7398a1e3",
   "metadata": {},
   "outputs": [],
   "source": [
    "#ans8.\n",
    "# it will remove the 'cat' from the first index (first occurence will be removed in case of repeation)\n",
    "[3.14, 'cat', 11, 'cat', True, 99]"
   ]
  },
  {
   "cell_type": "markdown",
   "id": "c5186227",
   "metadata": {},
   "source": [
    "Q9. What are the list concatenation and list replication operators?"
   ]
  },
  {
   "cell_type": "code",
   "execution_count": null,
   "id": "42dc377c",
   "metadata": {},
   "outputs": [],
   "source": [
    "#ans9.\n",
    "# The operator for list concatenation is +\n",
    "list1 + list2\n",
    "# the operator for list replication is *\n",
    "list1*5"
   ]
  },
  {
   "cell_type": "markdown",
   "id": "abb68e72",
   "metadata": {},
   "source": [
    "Q10. What is difference between the list methods append() and insert()?"
   ]
  },
  {
   "cell_type": "code",
   "execution_count": null,
   "id": "532014b3",
   "metadata": {},
   "outputs": [],
   "source": [
    "#ans10.\n",
    "# append() will insert the element in the list at the last index.\n",
    "# insert() will insert the element in the specified index\n"
   ]
  },
  {
   "cell_type": "markdown",
   "id": "10cb1d65",
   "metadata": {},
   "source": [
    "Q11. What are the two methods for removing items from a list?"
   ]
  },
  {
   "cell_type": "code",
   "execution_count": null,
   "id": "4daca409",
   "metadata": {},
   "outputs": [],
   "source": [
    "#ans11.\n",
    "remove()         #removes the specified item\n",
    "pop()            # removes the item from last index"
   ]
  },
  {
   "cell_type": "markdown",
   "id": "d9ead971",
   "metadata": {},
   "source": [
    "Q12. Describe how list values and string values are identical."
   ]
  },
  {
   "cell_type": "code",
   "execution_count": null,
   "id": "35d3f016",
   "metadata": {},
   "outputs": [],
   "source": [
    "#ans12.\n",
    "# Both list and string data types have indexes for the items in it \n",
    "# they are ordered collection"
   ]
  },
  {
   "cell_type": "markdown",
   "id": "7943dae8",
   "metadata": {},
   "source": [
    "Q13. What's the difference between tuples and lists?"
   ]
  },
  {
   "cell_type": "code",
   "execution_count": null,
   "id": "b031a2fb",
   "metadata": {},
   "outputs": [],
   "source": [
    "#ans13.\n",
    "# The baisc difference is of mutability - list are mutable and tuples are immutable\n",
    "# There representation - list = [1,2,3] while tuple = (1,2,4)\n",
    "# List have more methods for operation then tuples\n",
    "# Also list can be used for dictionary values more efficiently while tuple can be used as key"
   ]
  },
  {
   "cell_type": "markdown",
   "id": "d40e11cc",
   "metadata": {},
   "source": [
    "Q14. How do you type a tuple value that only contains the integer 42?"
   ]
  },
  {
   "cell_type": "code",
   "execution_count": null,
   "id": "cd68d4d9",
   "metadata": {},
   "outputs": [],
   "source": [
    "#ans14.\n",
    "#let t be the tuple\n",
    "t = (42,)"
   ]
  },
  {
   "cell_type": "markdown",
   "id": "8536c312",
   "metadata": {},
   "source": [
    "Q15. How do you get a list value's tuple form? How do you get a tuple value's list form?"
   ]
  },
  {
   "cell_type": "code",
   "execution_count": 1,
   "id": "8330db1f",
   "metadata": {},
   "outputs": [
    {
     "name": "stdout",
     "output_type": "stream",
     "text": [
      "l =  [1, 2, 3, 5, 6]\n",
      "data type of l =  <class 'list'>\n",
      "t =  (1, 2, 3, 5, 6)\n",
      "data type of t =  <class 'tuple'>\n",
      "l1 =  [1, 2, 3, 5, 6]\n",
      "data type of l1 =  <class 'list'>\n"
     ]
    }
   ],
   "source": [
    "#ans15.\n",
    "l = [1,2,3,5,6]\n",
    "print(\"l = \",l)\n",
    "print(\"data type of l = \",type(l))\n",
    "t = tuple(l)\n",
    "print(\"t = \",t)\n",
    "print(\"data type of t = \",type(t))\n",
    "l1 = list(t)\n",
    "print(\"l1 = \",l1)\n",
    "print(\"data type of l1 = \",type(l1))"
   ]
  },
  {
   "cell_type": "markdown",
   "id": "ed90f209",
   "metadata": {},
   "source": [
    "Q16. Variables that \"contain\" list values are not necessarily lists themselves. Instead, what do they contain?"
   ]
  },
  {
   "cell_type": "code",
   "execution_count": null,
   "id": "e017d421",
   "metadata": {},
   "outputs": [],
   "source": [
    "#ans16.\n",
    "# variable will contain reference to the list values."
   ]
  },
  {
   "cell_type": "markdown",
   "id": "89982f7a",
   "metadata": {},
   "source": [
    "Q17. How do you distinguish between copy.copy() and copy.deepcopy()?"
   ]
  },
  {
   "cell_type": "code",
   "execution_count": null,
   "id": "90081a52",
   "metadata": {},
   "outputs": [],
   "source": [
    "#ans17.\n",
    "#A shallow copy constructs a new compound object and then (to the extent possible) inserts references into it to the objects found in the original.\n",
    "#A deep copy constructs a new compound object and then, recursively, inserts copies into it of the objects found in the original."
   ]
  }
 ],
 "metadata": {
  "kernelspec": {
   "display_name": "Python 3 (ipykernel)",
   "language": "python",
   "name": "python3"
  },
  "language_info": {
   "codemirror_mode": {
    "name": "ipython",
    "version": 3
   },
   "file_extension": ".py",
   "mimetype": "text/x-python",
   "name": "python",
   "nbconvert_exporter": "python",
   "pygments_lexer": "ipython3",
   "version": "3.9.12"
  }
 },
 "nbformat": 4,
 "nbformat_minor": 5
}
